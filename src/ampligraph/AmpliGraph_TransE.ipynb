{
  "nbformat": 4,
  "nbformat_minor": 0,
  "metadata": {
    "colab": {
      "name": "AmpliGraph_TransE.ipynb",
      "provenance": [],
      "private_outputs": true,
      "collapsed_sections": [],
      "toc_visible": true
    },
    "kernelspec": {
      "name": "python3",
      "display_name": "Python 3"
    },
    "accelerator": "GPU"
  },
  "cells": [
    {
      "cell_type": "code",
      "metadata": {
        "id": "B7Gc9b0nFxMB",
        "colab_type": "code",
        "colab": {}
      },
      "source": [
        "%tensorflow_version 1.x"
      ],
      "execution_count": 0,
      "outputs": []
    },
    {
      "cell_type": "code",
      "metadata": {
        "colab_type": "code",
        "id": "Ha8tDo-6RtS9",
        "colab": {}
      },
      "source": [
        "%%capture \n",
        "!pip install ampligraph; "
      ],
      "execution_count": 0,
      "outputs": []
    },
    {
      "cell_type": "code",
      "metadata": {
        "id": "XKqvke5GRv14",
        "colab_type": "code",
        "colab": {}
      },
      "source": [
        "import numpy as np\n",
        "import pandas as pd\n",
        "import ampligraph\n",
        "\n",
        "ampligraph.__version__"
      ],
      "execution_count": 0,
      "outputs": []
    },
    {
      "cell_type": "markdown",
      "metadata": {
        "id": "E2zQO7QqjYQW",
        "colab_type": "text"
      },
      "source": [
        "## 1. Dataset exploration"
      ]
    },
    {
      "cell_type": "code",
      "metadata": {
        "id": "IYLn3NXKegOm",
        "colab_type": "code",
        "colab": {}
      },
      "source": [
        "import requests\n",
        "from ampligraph.datasets import load_from_csv\n",
        "\n",
        "url = 'https://ampligraph.s3-eu-west-1.amazonaws.com/datasets/GoT.csv'\n",
        "open('GoT.csv', 'wb').write(requests.get(url).content)\n",
        "X = load_from_csv('.', 'GoT.csv', sep=',')\n",
        "X[:5, ]"
      ],
      "execution_count": 0,
      "outputs": []
    },
    {
      "cell_type": "markdown",
      "metadata": {
        "id": "cEuP4TG6egPF",
        "colab_type": "text"
      },
      "source": [
        "Subject and object entities in the dataset:"
      ]
    },
    {
      "cell_type": "code",
      "metadata": {
        "id": "Oa5EU8R8egPH",
        "colab_type": "code",
        "colab": {}
      },
      "source": [
        "entities = np.unique(np.concatenate([X[:, 0], X[:, 2]]))\n",
        "entities"
      ],
      "execution_count": 0,
      "outputs": []
    },
    {
      "cell_type": "markdown",
      "metadata": {
        "id": "MKrD7K04egPS",
        "colab_type": "text"
      },
      "source": [
        "Relationships that link subject and object"
      ]
    },
    {
      "cell_type": "code",
      "metadata": {
        "id": "cHzhvBhbegPX",
        "colab_type": "code",
        "colab": {}
      },
      "source": [
        "relations = np.unique(X[:, 1])\n",
        "relations"
      ],
      "execution_count": 0,
      "outputs": []
    },
    {
      "cell_type": "markdown",
      "metadata": {
        "id": "81NpVTA1egP5",
        "colab_type": "text"
      },
      "source": [
        "---\n",
        "# 2. Defining train and test datasets"
      ]
    },
    {
      "cell_type": "code",
      "metadata": {
        "id": "4pgpcidHegQC",
        "colab_type": "code",
        "colab": {}
      },
      "source": [
        "from ampligraph.evaluation import train_test_split_no_unseen \n",
        "\n",
        "num_test = int(len(X) * (20 / 100))\n",
        "\n",
        "data = {}\n",
        "data['train'], data['test'] = train_test_split_no_unseen(X, test_size=num_test, seed=0, allow_duplication=False) "
      ],
      "execution_count": 0,
      "outputs": []
    },
    {
      "cell_type": "code",
      "metadata": {
        "id": "ltijAdQtegQN",
        "colab_type": "code",
        "colab": {}
      },
      "source": [
        "print('Train set size: ', data['train'].shape)\n",
        "print('Test set size: ', data['test'].shape)"
      ],
      "execution_count": 0,
      "outputs": []
    },
    {
      "cell_type": "markdown",
      "metadata": {
        "id": "9qBTRJ57egQW",
        "colab_type": "text"
      },
      "source": [
        "---\n",
        "# 3. Training TransE model \n"
      ]
    },
    {
      "cell_type": "code",
      "metadata": {
        "id": "LygstJ69B-9H",
        "colab_type": "code",
        "colab": {}
      },
      "source": [
        "import tensorflow\n",
        "print(tensorflow.__version__)"
      ],
      "execution_count": 0,
      "outputs": []
    },
    {
      "cell_type": "code",
      "metadata": {
        "id": "0RshQCjgegQX",
        "colab_type": "code",
        "colab": {}
      },
      "source": [
        "from ampligraph.latent_features import TransE"
      ],
      "execution_count": 0,
      "outputs": []
    },
    {
      "cell_type": "code",
      "metadata": {
        "id": "ap1Yd4LEegQg",
        "colab_type": "code",
        "colab": {}
      },
      "source": [
        "model = TransE(batches_count=100, \n",
        "                seed=0, \n",
        "                epochs=200, \n",
        "                k=150, \n",
        "                eta=5,\n",
        "                optimizer='adam', \n",
        "                optimizer_params={'lr':1e-3},\n",
        "                loss='multiclass_nll', \n",
        "                regularizer='LP', \n",
        "                regularizer_params={'p':3, 'lambda':1e-5}, \n",
        "                verbose=True)"
      ],
      "execution_count": 0,
      "outputs": []
    },
    {
      "cell_type": "code",
      "metadata": {
        "id": "edjJcTReegQs",
        "colab_type": "code",
        "colab": {}
      },
      "source": [
        "positives_filter = X"
      ],
      "execution_count": 0,
      "outputs": []
    },
    {
      "cell_type": "code",
      "metadata": {
        "id": "CebLOmJWegRj",
        "colab_type": "code",
        "colab": {}
      },
      "source": [
        "import tensorflow as tf\n",
        "tf.logging.set_verbosity(tf.logging.ERROR)\n",
        "\n",
        "model.fit(data['train'], early_stopping = False)"
      ],
      "execution_count": 0,
      "outputs": []
    },
    {
      "cell_type": "markdown",
      "metadata": {
        "id": "89U5Ck5GegSn",
        "colab_type": "text"
      },
      "source": [
        "---\n",
        "# 4.  Saving and restoring a model\n"
      ]
    },
    {
      "cell_type": "code",
      "metadata": {
        "id": "Hf4SqCrSegSq",
        "colab_type": "code",
        "colab": {}
      },
      "source": [
        "from ampligraph.latent_features import save_model, restore_model"
      ],
      "execution_count": 0,
      "outputs": []
    },
    {
      "cell_type": "code",
      "metadata": {
        "id": "2InkMwHVegS0",
        "colab_type": "code",
        "colab": {}
      },
      "source": [
        "save_model(model, './best_model.pkm')"
      ],
      "execution_count": 0,
      "outputs": []
    },
    {
      "cell_type": "code",
      "metadata": {
        "id": "QFWnBc_cegS3",
        "colab_type": "code",
        "colab": {}
      },
      "source": [
        "del model"
      ],
      "execution_count": 0,
      "outputs": []
    },
    {
      "cell_type": "code",
      "metadata": {
        "id": "siCZ7ftLegS8",
        "colab_type": "code",
        "colab": {}
      },
      "source": [
        "model = restore_model('./best_model.pkm')"
      ],
      "execution_count": 0,
      "outputs": []
    },
    {
      "cell_type": "code",
      "metadata": {
        "id": "BON6T8HTegTA",
        "colab_type": "code",
        "colab": {}
      },
      "source": [
        "if model.is_fitted:\n",
        "    print('The model is fit!')\n",
        "else:\n",
        "    print('The model is not fit! Did you skip a step?')"
      ],
      "execution_count": 0,
      "outputs": []
    },
    {
      "cell_type": "markdown",
      "metadata": {
        "id": "5vZ3wn9xegTH",
        "colab_type": "text"
      },
      "source": [
        "---\n",
        "# 5. Evaluating a model\n"
      ]
    },
    {
      "cell_type": "code",
      "metadata": {
        "id": "DcjRY2UqegTI",
        "colab_type": "code",
        "colab": {}
      },
      "source": [
        "from ampligraph.evaluation import evaluate_performance"
      ],
      "execution_count": 0,
      "outputs": []
    },
    {
      "cell_type": "markdown",
      "metadata": {
        "id": "hKTpMvV8egTM",
        "colab_type": "text"
      },
      "source": [
        "## Running evaluation"
      ]
    },
    {
      "cell_type": "code",
      "metadata": {
        "id": "n1uWY6kdegTN",
        "colab_type": "code",
        "colab": {}
      },
      "source": [
        "ranks = evaluate_performance(data['test'], \n",
        "                             model=model, \n",
        "                             filter_triples=positives_filter,   # Corruption strategy filter defined above \n",
        "                             use_default_protocol=True, # corrupt subj and obj separately while evaluating\n",
        "                             verbose=True)"
      ],
      "execution_count": 0,
      "outputs": []
    },
    {
      "cell_type": "markdown",
      "metadata": {
        "id": "r5-RjV2iegTc",
        "colab_type": "text"
      },
      "source": [
        "## Metrics\n",
        "\n"
      ]
    },
    {
      "cell_type": "code",
      "metadata": {
        "id": "ULu0QqJeegTd",
        "colab_type": "code",
        "colab": {}
      },
      "source": [
        "from ampligraph.evaluation import mr_score, mrr_score, hits_at_n_score\n",
        "\n",
        "mrr = mrr_score(ranks)\n",
        "print(\"MRR: %.2f\" % (mrr))\n",
        "\n",
        "hits_10 = hits_at_n_score(ranks, n=10)\n",
        "print(\"Hits@10: %.2f\" % (hits_10))\n",
        "hits_3 = hits_at_n_score(ranks, n=3)\n",
        "print(\"Hits@3: %.2f\" % (hits_3))\n",
        "hits_1 = hits_at_n_score(ranks, n=1)\n",
        "print(\"Hits@1: %.2f\" % (hits_1))"
      ],
      "execution_count": 0,
      "outputs": []
    },
    {
      "cell_type": "markdown",
      "metadata": {
        "id": "6qf-59ipegTo",
        "colab_type": "text"
      },
      "source": [
        "\n",
        "# 6. Predicting New Links\n"
      ]
    },
    {
      "cell_type": "code",
      "metadata": {
        "id": "JW0IVcvjegTr",
        "colab_type": "code",
        "colab": {}
      },
      "source": [
        "X_unseen = np.array([\n",
        "    ['Jorah Mormont', 'SPOUSE', 'Daenerys Targaryen'],\n",
        "    ['Tyrion Lannister', 'SPOUSE', 'Missandei'],\n",
        "    [\"King's Landing\", 'SEAT_OF', 'House Lannister of Casterly Rock'],\n",
        "    ['Sansa Stark', 'SPOUSE', 'Petyr Baelish'],\n",
        "    ['Daenerys Targaryen', 'SPOUSE', 'Jon Snow'],\n",
        "    ['Daenerys Targaryen', 'SPOUSE', 'Craster'],\n",
        "    ['House Stark of Winterfell', 'IN_REGION', 'The North'],\n",
        "    ['House Stark of Winterfell', 'IN_REGION', 'Dorne'],\n",
        "    ['House Tyrell of Highgarden', 'IN_REGION', 'Beyond the Wall'],\n",
        "    ['Brandon Stark', 'ALLIED_WITH', 'House Stark of Winterfell'],\n",
        "    ['Brandon Stark', 'ALLIED_WITH', 'House Lannister of Casterly Rock'],    \n",
        "    ['Rhaegar Targaryen', 'PARENT_OF', 'Jon Snow'],\n",
        "    ['House Hutcheson', 'SWORN_TO', 'House Tyrell of Highgarden'],\n",
        "    ['Daenerys Targaryen', 'ALLIED_WITH', 'House Stark of Winterfell'],\n",
        "    ['Daenerys Targaryen', 'ALLIED_WITH', 'House Lannister of Casterly Rock'],\n",
        "    ['Jaime Lannister', 'PARENT_OF', 'Myrcella Baratheon'],\n",
        "    ['Robert I Baratheon', 'PARENT_OF', 'Myrcella Baratheon'],\n",
        "    ['Cersei Lannister', 'PARENT_OF', 'Myrcella Baratheon'],\n",
        "    ['Cersei Lannister', 'PARENT_OF', 'Brandon Stark'],\n",
        "    [\"Tywin Lannister\", 'PARENT_OF', 'Jaime Lannister'],\n",
        "    [\"Missandei\", 'SPOUSE', 'Grey Worm'],\n",
        "    [\"Brienne of Tarth\", 'SPOUSE', 'Jaime Lannister']\n",
        "])"
      ],
      "execution_count": 0,
      "outputs": []
    },
    {
      "cell_type": "code",
      "metadata": {
        "id": "V4berhGdNK9_",
        "colab_type": "code",
        "colab": {}
      },
      "source": [
        "unseen_filter = np.array(list({tuple(i) for i in np.vstack((positives_filter, X_unseen))}))"
      ],
      "execution_count": 0,
      "outputs": []
    },
    {
      "cell_type": "code",
      "metadata": {
        "id": "qqF540UmNOW0",
        "colab_type": "code",
        "colab": {}
      },
      "source": [
        "ranks_unseen = evaluate_performance(\n",
        "    X_unseen, \n",
        "    model=model, \n",
        "    filter_triples=unseen_filter,   # Corruption strategy filter defined above \n",
        "    corrupt_side = 's+o',\n",
        "    use_default_protocol=False, # corrupt subj and obj separately while evaluating\n",
        "    verbose=True\n",
        ")"
      ],
      "execution_count": 0,
      "outputs": []
    },
    {
      "cell_type": "code",
      "metadata": {
        "id": "ZjSa4sJxegTv",
        "colab_type": "code",
        "colab": {}
      },
      "source": [
        "scores = model.predict(X_unseen)"
      ],
      "execution_count": 0,
      "outputs": []
    },
    {
      "cell_type": "code",
      "metadata": {
        "id": "f0wD5YkbegT1",
        "colab_type": "code",
        "colab": {}
      },
      "source": [
        "from scipy.special import expit\n",
        "probs = expit(scores)"
      ],
      "execution_count": 0,
      "outputs": []
    },
    {
      "cell_type": "code",
      "metadata": {
        "scrolled": true,
        "id": "G1phXrSeegT6",
        "colab_type": "code",
        "colab": {}
      },
      "source": [
        "pd.DataFrame(list(zip([' '.join(x) for x in X_unseen], \n",
        "                      ranks_unseen, \n",
        "                      np.squeeze(scores),\n",
        "                      np.squeeze(probs))), \n",
        "             columns=['statement', 'rank', 'score', 'prob']).sort_values(\"score\")"
      ],
      "execution_count": 0,
      "outputs": []
    },
    {
      "cell_type": "markdown",
      "metadata": {
        "id": "FCD_uxqDegT_",
        "colab_type": "text"
      },
      "source": [
        "---\n",
        "# 7. Visualizing Embeddings with Tensorboard projector \n"
      ]
    },
    {
      "cell_type": "code",
      "metadata": {
        "id": "HbvX44gdegUA",
        "colab_type": "code",
        "colab": {}
      },
      "source": [
        "from ampligraph.utils import create_tensorboard_visualizations"
      ],
      "execution_count": 0,
      "outputs": []
    },
    {
      "cell_type": "code",
      "metadata": {
        "id": "s1z0VrWRegUD",
        "colab_type": "code",
        "colab": {}
      },
      "source": [
        "create_tensorboard_visualizations(model, 'GoT_embeddings')"
      ],
      "execution_count": 0,
      "outputs": []
    },
    {
      "cell_type": "code",
      "metadata": {
        "id": "PMEBkOW1VoOS",
        "colab_type": "code",
        "colab": {}
      },
      "source": [
        ""
      ],
      "execution_count": 0,
      "outputs": []
    }
  ]
}
