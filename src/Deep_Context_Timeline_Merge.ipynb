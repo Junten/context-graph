{
  "nbformat": 4,
  "nbformat_minor": 0,
  "metadata": {
    "colab": {
      "name": "Deep_Context_Timeline_Merge.ipynb",
      "provenance": [],
      "collapsed_sections": [],
      "include_colab_link": true
    },
    "kernelspec": {
      "name": "python3",
      "display_name": "Python 3"
    }
  },
  "cells": [
    {
      "cell_type": "markdown",
      "metadata": {
        "id": "view-in-github",
        "colab_type": "text"
      },
      "source": [
        "<a href=\"https://colab.research.google.com/github/Junten/context-graph/blob/master/src/Deep_Context_Timeline_Merge.ipynb\" target=\"_parent\"><img src=\"https://colab.research.google.com/assets/colab-badge.svg\" alt=\"Open In Colab\"/></a>"
      ]
    },
    {
      "cell_type": "code",
      "metadata": {
        "id": "1F4DK0hxF1xg",
        "colab_type": "code",
        "outputId": "f5222d71-8a81-4108-83f8-ccdfad182c7d",
        "colab": {
          "base_uri": "https://localhost:8080/",
          "height": 241
        }
      },
      "source": [
        "!pip install tweet-preprocessor\n",
        "!pip install google-api-python-client\n",
        "\n",
        "import pandas as pd\n",
        "import preprocessor as p\n",
        "import networkx as nx\n",
        "import matplotlib.pyplot as plt\n",
        "import tweepy\n",
        "import json\n",
        "import json\n",
        "import requests\n",
        "import csv\n",
        "import re\n",
        "import sys\n",
        "import urllib.parse\n",
        "\n",
        "from sklearn.feature_extraction.text import CountVectorizer\n",
        "\n",
        "from googleapiclient.discovery import build\n",
        "from datetime import datetime"
      ],
      "execution_count": 0,
      "outputs": [
        {
          "output_type": "stream",
          "text": [
            "Requirement already satisfied: tweet-preprocessor in /usr/local/lib/python3.6/dist-packages (0.5.0)\n",
            "Requirement already satisfied: google-api-python-client in /usr/local/lib/python3.6/dist-packages (1.7.11)\n",
            "Requirement already satisfied: httplib2<1dev,>=0.9.2 in /usr/local/lib/python3.6/dist-packages (from google-api-python-client) (0.11.3)\n",
            "Requirement already satisfied: six<2dev,>=1.6.1 in /usr/local/lib/python3.6/dist-packages (from google-api-python-client) (1.12.0)\n",
            "Requirement already satisfied: uritemplate<4dev,>=3.0.0 in /usr/local/lib/python3.6/dist-packages (from google-api-python-client) (3.0.1)\n",
            "Requirement already satisfied: google-auth>=1.4.1 in /usr/local/lib/python3.6/dist-packages (from google-api-python-client) (1.7.2)\n",
            "Requirement already satisfied: google-auth-httplib2>=0.0.3 in /usr/local/lib/python3.6/dist-packages (from google-api-python-client) (0.0.3)\n",
            "Requirement already satisfied: pyasn1-modules>=0.2.1 in /usr/local/lib/python3.6/dist-packages (from google-auth>=1.4.1->google-api-python-client) (0.2.8)\n",
            "Requirement already satisfied: setuptools>=40.3.0 in /usr/local/lib/python3.6/dist-packages (from google-auth>=1.4.1->google-api-python-client) (45.2.0)\n",
            "Requirement already satisfied: rsa<4.1,>=3.1.4 in /usr/local/lib/python3.6/dist-packages (from google-auth>=1.4.1->google-api-python-client) (4.0)\n",
            "Requirement already satisfied: cachetools<3.2,>=2.0.0 in /usr/local/lib/python3.6/dist-packages (from google-auth>=1.4.1->google-api-python-client) (3.1.1)\n",
            "Requirement already satisfied: pyasn1<0.5.0,>=0.4.6 in /usr/local/lib/python3.6/dist-packages (from pyasn1-modules>=0.2.1->google-auth>=1.4.1->google-api-python-client) (0.4.8)\n"
          ],
          "name": "stdout"
        }
      ]
    },
    {
      "cell_type": "code",
      "metadata": {
        "id": "uk-terF_GEM-",
        "colab_type": "code",
        "outputId": "6d6025be-1651-48f3-86dc-26bfdac148e8",
        "colab": {
          "base_uri": "https://localhost:8080/",
          "height": 153
        }
      },
      "source": [
        "!pip install nltk\n",
        "import nltk \n",
        "from nltk.corpus import stopwords\n",
        "from nltk.stem.wordnet import WordNetLemmatizer\n",
        "nltk.download('punkt')\n",
        "nltk.download('wordnet')\n",
        "nltk.download('stopwords')\n",
        "stop_words = set(stopwords.words('english'))"
      ],
      "execution_count": 0,
      "outputs": [
        {
          "output_type": "stream",
          "text": [
            "Requirement already satisfied: nltk in /usr/local/lib/python3.6/dist-packages (3.2.5)\n",
            "Requirement already satisfied: six in /usr/local/lib/python3.6/dist-packages (from nltk) (1.12.0)\n",
            "[nltk_data] Downloading package punkt to /root/nltk_data...\n",
            "[nltk_data]   Package punkt is already up-to-date!\n",
            "[nltk_data] Downloading package wordnet to /root/nltk_data...\n",
            "[nltk_data]   Package wordnet is already up-to-date!\n",
            "[nltk_data] Downloading package stopwords to /root/nltk_data...\n",
            "[nltk_data]   Package stopwords is already up-to-date!\n"
          ],
          "name": "stdout"
        }
      ]
    },
    {
      "cell_type": "code",
      "metadata": {
        "id": "yBRmxyONGaPE",
        "colab_type": "code",
        "colab": {}
      },
      "source": [
        "timeline_data = {}\n",
        "news_api_title = []\n",
        "news_api_decription = []\n",
        "news_api_date = []\n",
        "news_api_url = []\n",
        "\n",
        "def decode_title(dct):\n",
        "    if \"title\" in dct:\n",
        "        news_api_title.append(p.clean(dct[\"title\"]))\n",
        "    else:\n",
        "        return [\"\"]\n",
        "def decode_description(dct):\n",
        "    if \"description\" in dct:\n",
        "        news_api_decription.append(p.clean(dct[\"description\"]))\n",
        "    else:\n",
        "        return [\"\"]\n",
        "def decode_date(dct):\n",
        "    if \"publishedAt\" in dct:\n",
        "        news_api_date.append(dct[\"publishedAt\"])\n",
        "    else:\n",
        "        return [\"\"]\n",
        "def decode_url(dct):\n",
        "    if \"url\" in dct:\n",
        "        news_api_url.append(dct[\"url\"])\n",
        "    else:\n",
        "        return [\"\"]"
      ],
      "execution_count": 0,
      "outputs": []
    },
    {
      "cell_type": "code",
      "metadata": {
        "id": "c3tJ1edZlHd6",
        "colab_type": "code",
        "colab": {}
      },
      "source": [
        "def getTimelineData():\n",
        "    for i in range(len(news_api_title)):\n",
        "      if news_api_date[i][:10] not in timeline_data:\n",
        "        timeline_data[news_api_date[i][:10]] = []\n",
        "        temp=[]\n",
        "        temp.append(news_api_title[i])\n",
        "        temp.append(news_api_url[i])\n",
        "        timeline_data[news_api_date[i][:10]].append(temp)\n",
        "      else:\n",
        "        temp=[]\n",
        "        temp.append(news_api_title[i])\n",
        "        temp.append(news_api_url[i])\n",
        "        timeline_data[news_api_date[i][:10]].append(temp)"
      ],
      "execution_count": 0,
      "outputs": []
    },
    {
      "cell_type": "code",
      "metadata": {
        "id": "9CRLhd75GM4u",
        "colab_type": "code",
        "outputId": "ca321047-922d-4c42-8207-9aaf8f9bd535",
        "colab": {
          "base_uri": "https://localhost:8080/",
          "height": 105
        }
      },
      "source": [
        "def getNewsAPI(query):\n",
        "  keywords = urllib.parse.quote(query)\n",
        "  url = \"https://newsapi.org/v2/everything?q=\"+keywords+\"&from=&apiKey= \"\n",
        "  response = requests.get(url)\n",
        "  newsApi_json = json.dumps(response.json(),sort_keys=True)\n",
        "  # print(newsApi_json)\n",
        "  # Decode title\n",
        "  parsed = json.loads(newsApi_json,object_hook=decode_title)\n",
        "  # Decode description\n",
        "  parsed = json.loads(newsApi_json,object_hook=decode_description)\n",
        "  # Decode date\n",
        "  parsed = json.loads(newsApi_json,object_hook=decode_date)\n",
        "  # Decode url\n",
        "  parsed = json.loads(newsApi_json,object_hook=decode_url)\n",
        "  getTimelineData()\n",
        "# getNewsAPI(\"coronavirus\")\n",
        "print(timeline_data)\n",
        "print(len(timeline_data))\n",
        "print(len(news_api_title))\n",
        "print(len(news_api_url))\n",
        "# print(len(news_api_title))\n",
        "# print(len(news_api_url))\n",
        "news_api_title = []\n",
        "news_api_decription = []\n",
        "news_api_date = []\n",
        "news_api_url = []\n",
        "timeline_data = {}\n",
        "\n"
      ],
      "execution_count": 0,
      "outputs": [
        {
          "output_type": "stream",
          "text": [
            "{'2020-02-28': [['Daily Crunch: Facebook cancels F8 over coronavirus concerns', 'http://techcrunch.com/2020/02/28/daily-crunch-f8-canceled/'], ['Geneva Motor Show canceled over coronavirus fears', 'http://techcrunch.com/2020/02/28/geneva-motor-show-canceled-over-coronavirus-fears/'], [\"Doctor says mask won't help against coronavirus. Here's why\", 'https://www.cnn.com/videos/health/2020/02/28/coronavirus-questions-doctor-patel-acfc-sot-vpx.cnn']], '2020-02-21': [['Daily Crunch: Coronavirus causes likely PC shipment decline', 'http://techcrunch.com/2020/02/21/daily-crunch-coronavirus-causes-likely-pc-shipment-decline/'], [\"Valve's Index VR production has been impacted by coronavirus\", 'https://www.engadget.com/2020/02/20/valves-index-vr-coronavirus/']], '2020-02-29': [['First U.S. coronavirus death confirmed in Washington state', 'https://www.theverge.com/2020/2/29/21159204/coronavirus-us-death-washington-king-county'], ['Coronavirus: South Korea sees its largest rise in coronavirus cases', 'https://www.bbc.co.uk/news/world-51685908'], ['This Week in Apps: Coronavirus impacts app stores, Facebook sues mobile SDK maker, Apple kicks out a cloud gaming app', 'http://techcrunch.com/2020/02/29/this-week-in-apps-coronavirus-impacts-app-stores-facebook-sues-mobile-sdk-maker-apple-kicks-out-a-cloud-gaming-app/']], '2020-02-24': [['Coronavirus fears hit markets, bringing US shares down as tech and SaaS slip', 'http://techcrunch.com/2020/02/24/coronavirus-fears-hit-markets-bringing-us-shares-down-as-tech-and-saas-slip/']], '2020-02-27': [['Andreessen Horowitz has backed Run The World, a startup with a timely offering: live online events', 'http://techcrunch.com/2020/02/27/andreessen-horowitz-has-backed-run-the-world-a-startup-with-a-timely-offering-live-online-events/'], ['U.S. stock markets drop again as Goldman Sachs projects zero growth from coronavirus', 'http://techcrunch.com/2020/02/27/u-s-stock-markets-drop-again-as-goldman-sachs-projects-zero-growth-from-coronavirus/'], ['Vice President Pence bulks up Coronavirus Task Force with medical and economic eerts', 'http://techcrunch.com/2020/02/27/vice-president-pence-bulks-up-coronavirus-task-force-with-medical-and-economic-experts/'], ['Facebook cancels F8 conference, citing coronavirus concerns', 'http://techcrunch.com/2020/02/27/facebook-cancels-f8-conference-citing-coronavirus-concerns/'], ['Tim Cook says Apple is reopening factories as China gets ‘coronavirus under control’', 'https://www.theverge.com/2020/2/27/21156458/apple-ceo-tim-cook-reopening-factories-china-coronavirus-outbreak'], ['Coronavirus merch is somehow worse than I eected', 'https://www.theverge.com/2020/2/27/21155937/coronavirus-merch-shirts-amazon-etsy'], ['Facebook cancels F8 developer conference due to coronavirus concerns', 'https://www.theverge.com/2020/2/27/21156308/facebook-f8-developer-conference-cancelled-coronavirus-concern-covid-19']], '2020-02-12': [[\"China rolls out 'close contact detection app' for coronavirus\", 'https://www.engadget.com/2020/02/12/china-close-contact-detection-app-coronavirus/']], '2020-02-19': [['Sony pulls out of PAX East over coronavirus concerns', 'https://www.engadget.com/2020/02/19/sony-pax-east-coronavirus-the-last-of-us-part-ii/']], '2020-02-20': [['Facebook withdraws from GDC due to coronavirus concerns', 'https://www.engadget.com/2020/02/20/facebook-oculus-withdraws-gdc/']], '2020-02-17': [[\"Apple warns of iPhone 'supply shortages' due to coronavirus outbreak\", 'https://www.engadget.com/2020/02/17/apple-warns-of-iphone-shortages/']]}\n",
            "9\n",
            "20\n",
            "20\n"
          ],
          "name": "stdout"
        }
      ]
    },
    {
      "cell_type": "code",
      "metadata": {
        "id": "7A13zpmvfLsy",
        "colab_type": "code",
        "outputId": "173b4a0e-8a87-4f63-d65d-7f94661ab308",
        "colab": {
          "base_uri": "https://localhost:8080/",
          "height": 1000
        }
      },
      "source": [
        "def getGNewsAPI(query):\n",
        "\n",
        "  keywords = urllib.parse.quote(query)\n",
        "  url = \"https://gnews.io/api/v3/search?q=\"+keywords+\"&token= \"\n",
        "  response = requests.get(url)\n",
        "  gNewsApi_json = json.dumps(response.json(), indent = 4,sort_keys=True)\n",
        "  print(gNewsApi_json)\n",
        "  # Decode title\n",
        "  parsed = json.loads(gNewsApi_json,object_hook=decode_title)\n",
        "  # Decode description\n",
        "  parsed = json.loads(gNewsApi_json,object_hook=decode_description)\n",
        "  # Decode date\n",
        "  parsed = json.loads(gNewsApi_json,object_hook=decode_date)\n",
        "  # Decode url\n",
        "  parsed = json.loads(gNewsApi_json,object_hook=decode_url)\n",
        "  getTimelineData()\n",
        "\n",
        "# getGNewsAPI(\"coronavirus\")"
      ],
      "execution_count": 0,
      "outputs": [
        {
          "output_type": "stream",
          "text": [
            "{\n",
            "    \"articleCount\": 10,\n",
            "    \"articles\": [\n",
            "        {\n",
            "            \"description\": \"\\\"If cruise lines and restauracoronants and retailers and airlines and oils are in trouble, well, so are their bankers,\\\" the \\\"Mad Money\\\" host said.\",\n",
            "            \"image\": \"https://images.gnews.io/5ed4df0278e2a84ee55c24ebe6cfa450\",\n",
            "            \"publishedAt\": \"2020-03-11 20:43:00 UTC\",\n",
            "            \"source\": {\n",
            "                \"name\": \"CNBC\",\n",
            "                \"url\": \"https://www.cnbc.com\"\n",
            "            },\n",
            "            \"title\": \"Jim Cramer: Coronavirus has rendered bank stocks 'awful investments'\",\n",
            "            \"url\": \"https://www.cnbc.com/video/2020/03/11/jim-cramer-coronavirus-has-rendered-bank-stocks-awful-investments.html\"\n",
            "        },\n",
            "        {\n",
            "            \"description\": \"\\\"There's nothing more important than trying to stay home, wash your hands, and get your supplies,\\\" CNBC's Jim Cramer said.\",\n",
            "            \"image\": \"https://images.gnews.io/d5b1a846850c1d277db17e211e61bb5f\",\n",
            "            \"publishedAt\": \"2020-03-11 20:39:00 UTC\",\n",
            "            \"source\": {\n",
            "                \"name\": \"CNBC\",\n",
            "                \"url\": \"https://www.cnbc.com\"\n",
            "            },\n",
            "            \"title\": \"Stopping the coronavirus from spreading will include a recession, Jim Cramer says\",\n",
            "            \"url\": \"https://www.cnbc.com/video/2020/03/11/jim-cramer-stopping-the-coronavirus-spread-will-include-a-recession.html\"\n",
            "        },\n",
            "        {\n",
            "            \"description\": \"WASHINGTON (Reuters) - The U.S. State Department issued a travel advisory on its website on Wednesday, advising citizens to reconsider travel abroad due to the global impact of the coronavirus ...\",\n",
            "            \"image\": \"https://images.gnews.io/15111648d1bd016a07a48259374bfb11\",\n",
            "            \"publishedAt\": \"2020-03-11 20:39:00 UTC\",\n",
            "            \"source\": {\n",
            "                \"name\": \"U.S. News & World Report\",\n",
            "                \"url\": \"https://www.usnews.com\"\n",
            "            },\n",
            "            \"title\": \"U.S. Advises Citizens to Reconsider Travel Abroad Due to Coronavirus\",\n",
            "            \"url\": \"https://www.usnews.com/news/top-news/articles/2020-03-11/us-advises-citizens-to-reconsider-travel-abroad-due-to-coronavirus\"\n",
            "        },\n",
            "        {\n",
            "            \"description\": \"The first coronavirus case in the U.S. Capitol has been diagnosed. A staff member for Washington Senator Maria Cantwell has tested positive for the disease, her office said in a statement. Cantwell's ...\",\n",
            "            \"image\": \"https://images.gnews.io/0c77490d09520be63b4d73fec37bd99f\",\n",
            "            \"publishedAt\": \"2020-03-11 20:33:00 UTC\",\n",
            "            \"source\": {\n",
            "                \"name\": \"CBS News\",\n",
            "                \"url\": \"https://www.cbsnews.com\"\n",
            "            },\n",
            "            \"title\": \"Washington senator's office has first coronavirus case on Capitol Hill\",\n",
            "            \"url\": \"https://www.cbsnews.com/news/washington-senators-office-has-first-coronavirus-case-on-capitol-hill/\"\n",
            "        },\n",
            "        {\n",
            "            \"description\": \"in Florida. To keep Florida residents and visitors safe and aware about the status of the virus, the department is issuing regular updates as information becomes available. A 63-year old man who is a ...\",\n",
            "            \"image\": \"https://images.gnews.io/25751a7c85e8c56705fedc88ed2c17aa\",\n",
            "            \"publishedAt\": \"2020-03-11 20:32:03 UTC\",\n",
            "            \"source\": {\n",
            "                \"name\": \"The St. Lucie News-Tribune on MSN.com\",\n",
            "                \"url\": \"https://www.msn.com\"\n",
            "            },\n",
            "            \"title\": \"Coronavirus in Florida: Department of Health announces three new cases\",\n",
            "            \"url\": \"https://www.msn.com/en-us/news/us/coronavirus-in-florida-department-of-health-announces-three-new-cases/ar-BB114o4D\"\n",
            "        },\n",
            "        {\n",
            "            \"description\": \"India has announced that all visas, barring a select few categories, will be suspended for a month in order to halt the spread of Covid-19. Visa free travel afforded to overseas citizens of the ...\",\n",
            "            \"image\": \"https://images.gnews.io/df51b2a2f8693ffc1583ab9bd196ce56\",\n",
            "            \"publishedAt\": \"2020-03-11 20:28:00 UTC\",\n",
            "            \"source\": {\n",
            "                \"name\": \"BBC\",\n",
            "                \"url\": \"https://www.bbc.com\"\n",
            "            },\n",
            "            \"title\": \"India suspends most visas to halt coronavirus spread\",\n",
            "            \"url\": \"https://www.bbc.com/news/world-asia-india-51847620\"\n",
            "        },\n",
            "        {\n",
            "            \"description\": \"The staffer, who works in the D.C. office of Washington Senator Maria Cantwell, apparently had no known contact with any members of Congress.\",\n",
            "            \"image\": \"https://images.gnews.io/faec1b657a1429a0e8402b038aec3f80\",\n",
            "            \"publishedAt\": \"2020-03-11 20:21:18 UTC\",\n",
            "            \"source\": {\n",
            "                \"name\": \"Intelligencer on MSN.com\",\n",
            "                \"url\": \"https://www.msn.com\"\n",
            "            },\n",
            "            \"title\": \"Senate Aide Tests Positive for Coronavirus\",\n",
            "            \"url\": \"https://www.msn.com/en-us/news/politics/senate-aide-tests-positive-for-coronavirus/ar-BB114Ats\"\n",
            "        },\n",
            "        {\n",
            "            \"description\": \"U.S. stock index futures tumbled on Thursday and were close to hitting their daily down limit after President Donald Trump\\u2019s speech outlining the administration\\u2019s response to the coronavirus epidemic ...\",\n",
            "            \"image\": null,\n",
            "            \"publishedAt\": \"2020-03-11 19:52:00 UTC\",\n",
            "            \"source\": {\n",
            "                \"name\": \"Reuters\",\n",
            "                \"url\": \"https://www.reuters.com\"\n",
            "            },\n",
            "            \"title\": \"U.S. stock futures tumble as Trump's virus response disappoints\",\n",
            "            \"url\": \"https://www.reuters.com/article/us-usa-stocks-idUSKBN20Z0CM\"\n",
            "        },\n",
            "        {\n",
            "            \"description\": \"President Trump announced a 30-day ban on travel from Europe into the U.S. and said he would take action to offer financial assistance to those affected by the coronavirus pandemic in an effort to ...\",\n",
            "            \"image\": \"https://images.gnews.io/65c561150c9be88d64b516243808dd1b\",\n",
            "            \"publishedAt\": \"2020-03-11 19:50:00 UTC\",\n",
            "            \"source\": {\n",
            "                \"name\": \"Wall Street Journal\",\n",
            "                \"url\": \"https://www.wsj.com\"\n",
            "            },\n",
            "            \"title\": \"U.S. to Ban Travel From Europe for 30 Days Due to Coronavirus\",\n",
            "            \"url\": \"https://www.wsj.com/articles/coronavirus-outbreak-prompts-trump-to-question-europe-travel-restrictions-11583971156\"\n",
            "        },\n",
            "        {\n",
            "            \"description\": \"Under mounting pressure to take action against the spread of the coronavirus, President Donald Trump on Wednesday suspended travel from Europe to the United States, except for the UK, for 30 days ...\",\n",
            "            \"image\": \"https://images.gnews.io/0fcdd8d1b397710c53b351a0d1e1f85f\",\n",
            "            \"publishedAt\": \"2020-03-11 19:50:00 UTC\",\n",
            "            \"source\": {\n",
            "                \"name\": \"Reuters\",\n",
            "                \"url\": \"https://www.reuters.com\"\n",
            "            },\n",
            "            \"title\": \"Trump suspends all travel from Europe to the United States to fight coronavirus\",\n",
            "            \"url\": \"https://www.reuters.com/article/us-health-coronavirus-usa-trump-idUSKBN20Z04U\"\n",
            "        }\n",
            "    ],\n",
            "    \"timestamp\": 1583987824\n",
            "}\n"
          ],
          "name": "stdout"
        }
      ]
    },
    {
      "cell_type": "code",
      "metadata": {
        "id": "_p12vom3CS45",
        "colab_type": "code",
        "outputId": "99624423-b36e-4f7d-a91c-454b15b9dee6",
        "colab": {
          "base_uri": "https://localhost:8080/",
          "height": 54
        }
      },
      "source": [
        "print(timeline_data)"
      ],
      "execution_count": 0,
      "outputs": [
        {
          "output_type": "stream",
          "text": [
            "{'2020-03-11': [[\"Jim Cramer: Coronavirus has rendered bank stocks 'awful investments'\", 'https://www.cnbc.com'], ['Stopping the coronavirus from spreading will include a recession, Jim Cramer says', 'https://www.cnbc.com/video/2020/03/11/jim-cramer-coronavirus-has-rendered-bank-stocks-awful-investments.html'], ['U.S. Advises Citizens to Reconsider Travel Abroad Due to Coronavirus', 'https://www.cnbc.com'], [\"Washington senator's office has first coronavirus case on Capitol Hill\", 'https://www.cnbc.com/video/2020/03/11/jim-cramer-stopping-the-coronavirus-spread-will-include-a-recession.html'], ['Coronavirus in Florida: Department of Health announces three new cases', 'https://www.usnews.com'], ['India suspends most visas to halt coronavirus spread', 'https://www.usnews.com/news/top-news/articles/2020-03-11/us-advises-citizens-to-reconsider-travel-abroad-due-to-coronavirus'], ['Senate Aide Tests Positive for Coronavirus', 'https://www.cbsnews.com'], [\"U.S. stock futures tumble as Trump's virus response disappoints\", 'https://www.cbsnews.com/news/washington-senators-office-has-first-coronavirus-case-on-capitol-hill/'], ['U.S. to Ban Travel From Europe for Days Due to Coronavirus', 'https://www.msn.com'], ['Trump suspends all travel from Europe to the United States to fight coronavirus', 'https://www.msn.com/en-us/news/us/coronavirus-in-florida-department-of-health-announces-three-new-cases/ar-BB114o4D']]}\n"
          ],
          "name": "stdout"
        }
      ]
    },
    {
      "cell_type": "code",
      "metadata": {
        "id": "2mlsIGXworHb",
        "colab_type": "code",
        "colab": {}
      },
      "source": [
        "def buildGraph():\n",
        "  timeline_data = {}\n",
        "  keyword = \"coronavirus\"\n",
        "  getNewsAPI(keyword)\n",
        "  getGNewsAPI(keyword)\n",
        "  print(timeline_data)"
      ],
      "execution_count": 0,
      "outputs": []
    },
    {
      "cell_type": "code",
      "metadata": {
        "id": "f8zCviLNakZR",
        "colab_type": "code",
        "colab": {}
      },
      "source": [
        "import requests\n",
        "from bs4 import BeautifulSoup\n",
        "def getArticle(url):\n",
        "    result = requests.get(url)\n",
        "    c = result.content\n",
        "    soup = BeautifulSoup(c)\n",
        "\n",
        "    article_text = ''\n",
        "    article = soup.findAll('p')\n",
        "    for element in article:\n",
        "        article_text += '\\n' + ''.join(element.findAll(text = True))\n",
        "    return article_text"
      ],
      "execution_count": 0,
      "outputs": []
    },
    {
      "cell_type": "code",
      "metadata": {
        "id": "tl4iGMEWRfZL",
        "colab_type": "code",
        "colab": {}
      },
      "source": [
        "import spacy\n",
        "\n",
        "# Load English tokenizer, tagger, parser, NER and word vectors\n",
        "ner = spacy.load(\"en_core_web_sm\")\n",
        "def extract_entities(corpus):\n",
        "  entities = list()\n",
        "  for entry in corpus:\n",
        "    filtered_corpus = \"\".join(entry)\n",
        "    news_corpus_entities = ner(filtered_corpus)\n",
        "    for entity in news_corpus_entities.ents:\n",
        "      entities.append(entity.text)\n",
        "      print(entity.text, entity.label_)\n",
        "  return entities"
      ],
      "execution_count": 0,
      "outputs": []
    },
    {
      "cell_type": "code",
      "metadata": {
        "id": "_YmTDEU6SqGz",
        "colab_type": "code",
        "outputId": "1507ec10-b12a-4a86-da57-c9fd7da2af2a",
        "colab": {
          "base_uri": "https://localhost:8080/",
          "height": 530
        }
      },
      "source": [
        "article_corpus = getArticle(\"https://www.reuters.com/article/us-health-coronavirus-usa-trump-idUSKBN20Z04U\")\n",
        "print(article_corpus)"
      ],
      "execution_count": 0,
      "outputs": [
        {
          "output_type": "stream",
          "text": [
            "\n",
            "5 Min Read\n",
            "WASHINGTON (Reuters) - President Donald Trump on Wednesday imposed sweeping restrictions to prevent people from 26 European countries from traveling to the United States for a month as he responded to mounting pressure to take action against the spread of the coronavirus. \n",
            "The president took the dramatic step in a somber Oval Office speech as he battled to address the health and economic shocks to Americans from the sometimes fatal virus and responded to criticism he has not taken the threat seriously enough. \n",
            "The travel order does not apply to the United Kingdom and Ireland, and does not apply to American citizens. \n",
            "Trump also announced several economic steps aimed at cushioning the blow to American businesses struggling with a sudden loss of consumer demand. \n",
            "“This is the most aggressive and comprehensive effort to confront a foreign virus in modern history,” he said. \n",
            "“I am confident that by counting and continuing to take these tough measures, we will significantly reduce the threat to our citizens, and we will ultimately and expeditiously defeat this virus.” \n",
            "After triggering confusion by suggesting that “trade and cargo” from Europe would also be banned, Trump was forced to clarify his statement with a tweet moments after the speech that “trade will in no way be affected” by the travel restriction.  \n",
            "“The restriction stops people not goods,” he said in the tweet. \n",
            "U.S. stock futures ESv1 slid further as the president spoke, down more than 4% and signaling another day of losses awaits Wall Street.  \n",
            "Trump, whose re-election bid on Nov. 3 could hinge on how well he responds to a crisis that has suddenly enveloped his presidency, stopped short of declaring a national emergency. \n",
            "The president used the Oval Office for the speech, a venue he has largely avoided in favor of free-wheeling, unscripted remarks elsewhere, and he did not appear entirely comfortable in the setting, reading through his speech quickly and uttering an expletive in an off-mic moment. \n",
            "His goal was to show he is on top of the situation after facing criticism from Democrats for not moving quickly enough to provide coronavirus testing for Americans. \n",
            "But he failed to mention other pressing issues such as accelerating the production of testing kits and face masks. \n",
            "Trump pulled no punches in saying Europe was partly to blame for the virus’ spread in the United States, where it has killed at least 37 people and infected 1,281. \n",
            "His travel restrictions on Europe were similar to what he declared on travel from China earlier this year when the illness was spreading wildly there. \n",
            "“The European Union failed to take the same precautions and restrict travel from China and other hot spots. As a result, a large number of new clusters in the United States were seeded by travelers from Europe,” he said. \n",
            "Trump signed an order that suspends the entry of most foreign nationals who have been in certain European countries at any point during the 14 days prior to their scheduled arrival to the United States. \n",
            "The list of countries included Austria, Belgium, Czech Republic, Denmark, Estonia, Finland, France, Germany, Greece, Hungary, Iceland, Italy, Latvia, Liechtenstein, Lithuania, Luxembourg, Malta, Netherlands, Norway, Poland, Portugal, Slovakia, Slovenia, Spain, Sweden and Switzerland, the Homeland Security Department said. \n",
            "The order did not apply to American citizens, legal permanent residents of the United States, immediate family members of U.S. citizens, and other individuals who are identified in the proclamation. \n",
            "Trump said the restrictions will be adjusted subject to conditions on the ground. \n",
            "The U.S. State Department issued a travel advisory on its website on Wednesday, advising U.S. citizens to reconsider travel abroad due to the global impact of the coronavirus outbreak. \n",
            "As the U.S. stock market took another hit from the virus on Wednesday, Trump said he would take emergency action to provide financial relief for workers who are ill, quarantined or caring for others due to the illness. \n",
            "He said he was instructing the Treasury Department to defer tax payments without interest or penalties for certain businesses and individuals affected. \n",
            "Trump added he was also instructing the Small Business Administration to provide capital and liquidity to firms affected by the virus. \n",
            "Reporting by Steve Holland, Eric Beech, Makini Brice, Alexandra Alper, Phil Stewart and David Shepardson; Editing by Sandra Maler, Peter Cooney, Lincoln Feast and Simon Cameron-Moore\n",
            "All quotes delayed a minimum of 15 minutes. See here for a complete list of exchanges and delays.\n",
            "©  2020  Reuters. All Rights Reserved.\n"
          ],
          "name": "stdout"
        }
      ]
    },
    {
      "cell_type": "code",
      "metadata": {
        "id": "g1GpxEuRS82Q",
        "colab_type": "code",
        "outputId": "99ffcbe7-0ad8-46e8-a1cc-3c044f5d8055",
        "colab": {
          "base_uri": "https://localhost:8080/",
          "height": 1000
        }
      },
      "source": [
        "ent = ner(article_corpus)\n",
        "entities = []\n",
        "for entity in ent.ents:\n",
        "  entities.append(entity.text)\n",
        "  print(entity.text, entity.label_)"
      ],
      "execution_count": 0,
      "outputs": [
        {
          "output_type": "stream",
          "text": [
            "5 CARDINAL\n",
            "WASHINGTON GPE\n",
            "Reuters ORG\n",
            "Donald Trump PERSON\n",
            "Wednesday DATE\n",
            "26 CARDINAL\n",
            "European NORP\n",
            "the United States GPE\n",
            "a month DATE\n",
            "Oval Office ORG\n",
            "Americans NORP\n",
            "the United Kingdom GPE\n",
            "Ireland GPE\n",
            "American NORP\n",
            "Trump ORG\n",
            "American NORP\n",
            "Europe LOC\n",
            "Trump ORG\n",
            "U.S. GPE\n",
            "more than 4% PERCENT\n",
            "another day DATE\n",
            "Nov. 3 DATE\n",
            "the Oval Office ORG\n",
            "Democrats NORP\n",
            "Americans NORP\n",
            "Trump ORG\n",
            "Europe LOC\n",
            "the United States GPE\n",
            "at least 37 CARDINAL\n",
            "1,281 CARDINAL\n",
            "Europe LOC\n",
            "China GPE\n",
            "earlier this year DATE\n",
            "The European Union ORG\n",
            "China GPE\n",
            "the United States GPE\n",
            "Europe LOC\n",
            "Trump ORG\n",
            "European NORP\n",
            "the 14 days DATE\n",
            "the United States GPE\n",
            "Austria GPE\n",
            "Belgium GPE\n",
            "Czech Republic GPE\n",
            "Denmark GPE\n",
            "Estonia GPE\n",
            "Finland GPE\n",
            "France GPE\n",
            "Germany GPE\n",
            "Greece GPE\n",
            "Hungary GPE\n",
            "Iceland GPE\n",
            "Italy GPE\n",
            "Latvia GPE\n",
            "Liechtenstein GPE\n",
            "Lithuania GPE\n",
            "Luxembourg GPE\n",
            "Malta GPE\n",
            "Netherlands GPE\n",
            "Norway GPE\n",
            "Poland GPE\n",
            "Portugal GPE\n",
            "Slovakia GPE\n",
            "Slovenia GPE\n",
            "Spain GPE\n",
            "Sweden GPE\n",
            "Switzerland GPE\n",
            "the Homeland Security Department ORG\n",
            "American NORP\n",
            "the United States GPE\n",
            "U.S. GPE\n",
            "Trump ORG\n",
            "The U.S. State Department ORG\n",
            "Wednesday DATE\n",
            "U.S. GPE\n",
            "U.S. GPE\n",
            "Wednesday DATE\n",
            "Trump ORG\n",
            "the Treasury Department ORG\n",
            "Trump ORG\n",
            "the Small Business Administration ORG\n",
            "Steve Holland PERSON\n",
            "Eric Beech PERSON\n",
            "Makini Brice PERSON\n",
            "Alexandra Alper PERSON\n",
            "Phil Stewart PERSON\n",
            "David Shepardson PERSON\n",
            "Sandra Maler PERSON\n",
            "Peter Cooney PERSON\n",
            "Lincoln Feast ORG\n",
            "Simon Cameron-Moore PERSON\n",
            "15 minutes TIME\n"
          ],
          "name": "stdout"
        }
      ]
    },
    {
      "cell_type": "code",
      "metadata": {
        "id": "OsHI-kMAWMui",
        "colab_type": "code",
        "outputId": "1fff2671-49db-436b-92d8-4b694b6b35ec",
        "colab": {
          "base_uri": "https://localhost:8080/",
          "height": 544
        }
      },
      "source": [
        "from sklearn.decomposition import LatentDirichletAllocation as LDA\n",
        "def print_topics(model, count_vectorizer, n_top_words):\n",
        "    extracted_words = list()\n",
        "    words = count_vectorizer.get_feature_names()\n",
        "    for topic_idx, topic in enumerate(model.components_):\n",
        "        extracted_words.append(\" \".join([words[i] for i in topic.argsort()[:-n_top_words - 1:-1]]))\n",
        "        print(\"\\nTopic #%d:\" % topic_idx)\n",
        "        print(\" \".join([words[i]\n",
        "                        for i in topic.argsort()[:-n_top_words - 1:-1]]))\n",
        "    return extracted_words\n",
        "number_topics = 10\n",
        "number_words = 10\n",
        "\n",
        "count_vectorizer = CountVectorizer(stop_words='english')\n",
        "# Fit and transform the processed titles\n",
        "#count_data = count_vectorizer.fit_transform(corpus)\n",
        "# Fit and transform the processed entities\n",
        "count_data = count_vectorizer.fit_transform(entities)\n",
        "lda = LDA(n_components=number_topics, n_jobs=-1)\n",
        "lda.fit(count_data)\n",
        "# Print the topics found by the LDA model\n",
        "print(\"Topics found via LDA:\")\n",
        "top_related_words = print_topics(lda, count_vectorizer, number_words)"
      ],
      "execution_count": 0,
      "outputs": [
        {
          "output_type": "stream",
          "text": [
            "Topics found via LDA:\n",
            "\n",
            "Topic #0:\n",
            "office oval year earlier sweden reuters lithuania latvia union donald\n",
            "\n",
            "Topic #1:\n",
            "trump americans business administration small david shepardson republic czech malta\n",
            "\n",
            "Topic #2:\n",
            "sandra maler brice makini treasury finland france greece day slovakia\n",
            "\n",
            "Topic #3:\n",
            "united states europe days minutes cooney peter 14 15 nov\n",
            "\n",
            "Topic #4:\n",
            "moore simon cameron feast lincoln stewart phil eric beech kingdom\n",
            "\n",
            "Topic #5:\n",
            "hungary ireland netherlands 26 union donald nov switzerland italy 281\n",
            "\n",
            "Topic #6:\n",
            "american alper alexandra state 37 austria department union donald nov\n",
            "\n",
            "Topic #7:\n",
            "european belgium portugal union donald nov italy switzerland washington malta\n",
            "\n",
            "Topic #8:\n",
            "wednesday holland steve denmark spain union donald nov switzerland italy\n",
            "\n",
            "Topic #9:\n",
            "china department homeland security slovenia iceland union donald nov italy\n"
          ],
          "name": "stdout"
        }
      ]
    },
    {
      "cell_type": "code",
      "metadata": {
        "id": "ODAfaQsbYS_g",
        "colab_type": "code",
        "outputId": "9cf4edec-41d5-4874-819c-5fa992558466",
        "colab": {
          "base_uri": "https://localhost:8080/",
          "height": 54
        }
      },
      "source": [
        "print(top_related_words)"
      ],
      "execution_count": 0,
      "outputs": [
        {
          "output_type": "stream",
          "text": [
            "['office oval year earlier sweden reuters lithuania latvia union donald', 'trump americans business administration small david shepardson republic czech malta', 'sandra maler brice makini treasury finland france greece day slovakia', 'united states europe days minutes cooney peter 14 15 nov', 'moore simon cameron feast lincoln stewart phil eric beech kingdom', 'hungary ireland netherlands 26 union donald nov switzerland italy 281', 'american alper alexandra state 37 austria department union donald nov', 'european belgium portugal union donald nov italy switzerland washington malta', 'wednesday holland steve denmark spain union donald nov switzerland italy', 'china department homeland security slovenia iceland union donald nov italy']\n"
          ],
          "name": "stdout"
        }
      ]
    }
  ]
}