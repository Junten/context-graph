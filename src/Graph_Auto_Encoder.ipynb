{
  "nbformat": 4,
  "nbformat_minor": 0,
  "metadata": {
    "colab": {
      "name": "Graph-Auto-Encoder.ipynb",
      "provenance": [],
      "collapsed_sections": []
    },
    "kernelspec": {
      "name": "python3",
      "display_name": "Python 3"
    },
    "accelerator": "GPU"
  },
  "cells": [
    {
      "cell_type": "code",
      "metadata": {
        "id": "w1nQRzv6JNWi",
        "colab_type": "code",
        "colab": {}
      },
      "source": [
        "%tensorflow_version 1.x"
      ],
      "execution_count": 0,
      "outputs": []
    },
    {
      "cell_type": "code",
      "metadata": {
        "id": "mRCUP-PNHZbm",
        "colab_type": "code",
        "colab": {}
      },
      "source": [
        "from google.colab import drive\n",
        "drive.mount('/content/drive')"
      ],
      "execution_count": 0,
      "outputs": []
    },
    {
      "cell_type": "code",
      "metadata": {
        "id": "zUswdB4UIK2j",
        "colab_type": "code",
        "colab": {}
      },
      "source": [
        "! python \"/content/drive/My Drive/gae/setup.py\" install"
      ],
      "execution_count": 0,
      "outputs": []
    },
    {
      "cell_type": "code",
      "metadata": {
        "id": "BpHjhyOxITga",
        "colab_type": "code",
        "colab": {}
      },
      "source": [
        "!python \"/content/drive/My Drive/gae/gae/train.py\""
      ],
      "execution_count": 0,
      "outputs": []
    }
  ]
}